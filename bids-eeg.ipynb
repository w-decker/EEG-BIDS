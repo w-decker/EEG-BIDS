{
 "cells": [
  {
   "attachments": {},
   "cell_type": "markdown",
   "metadata": {},
   "source": [
    "# Converting EEG data into BIDS Format\n",
    "## Author: Will Decker\n",
    "\n",
    "The following script converts raw BrainVision files into BIDS format using MNE. Information on BIDS, BIDS formating and other related documentation can be found [here](https://bids-specification.readthedocs.io/en/stable/). Information about MNE, its implementation and related documentation can be found [here](https://mne.tools/stable/overview/index.html)."
   ]
  },
  {
   "attachments": {},
   "cell_type": "markdown",
   "metadata": {},
   "source": [
    "### Load MNE and other necessary modules/packages"
   ]
  },
  {
   "cell_type": "code",
   "execution_count": 2,
   "metadata": {},
   "outputs": [],
   "source": [
    "import os\n",
    "import os.path as op\n",
    "import mne\n",
    "from mne_bids import write_raw_bids, BIDSPath, print_dir_tree\n",
    "from mne_bids.stats import count_events"
   ]
  },
  {
   "attachments": {},
   "cell_type": "markdown",
   "metadata": {},
   "source": [
    "### Load in raw data"
   ]
  },
  {
   "cell_type": "code",
   "execution_count": null,
   "metadata": {},
   "outputs": [],
   "source": [
    "# identify and display current raw data directory\n",
    "rawdata = \" \"\n",
    "print_dir_tree(rawdata) # expand/display file tree\n",
    "\n",
    "# identify '.vhdr' files in raw data directory and load them into empty\n",
    "raw_data = [] # empty list to append rawdata info to\n",
    "for filename in os.listdir(rawdata):\n",
    "    if filename.endswith(\".vhdr\"):\n",
    "        file_path = os.path.join(rawdata, filename)\n",
    "        raw = mne.io.read_raw_brainvision(file_path)\n",
    "        raw_data.append(raw)\n",
    "\n",
    "# combine raw data into a single raw object\n",
    "raw = mne.concatenate_raws(raw_data)\n",
    "\n",
    "# print information about raw data\n",
    "print(raw.info)"
   ]
  },
  {
   "attachments": {},
   "cell_type": "markdown",
   "metadata": {},
   "source": [
    "### Montage"
   ]
  },
  {
   "attachments": {},
   "cell_type": "markdown",
   "metadata": {},
   "source": [
    "Option 1: If you DO NOT have access to original montage file"
   ]
  },
  {
   "cell_type": "code",
   "execution_count": null,
   "metadata": {},
   "outputs": [],
   "source": [
    "\n",
    "# get list of standard montages\n",
    "get_montage = mne.channels.get_builtin_montages(descriptions = True)\n",
    "for montage_name, montage_description in get_montage: \n",
    "    print(f'{montage_name}: {montage_description}')\n",
    "    montage = montage_name\n",
    "    break\n",
    "\n",
    "# append montage to raw object\n",
    "standard_montage = mne.channels.make_standard_montage(montage)\n",
    "raw.set_montage(standard_montage)\n",
    "\n",
    "# display montage\n",
    "raw.plot_sensors()"
   ]
  },
  {
   "attachments": {},
   "cell_type": "markdown",
   "metadata": {},
   "source": [
    "Option 2: If you DO have access to original montage file"
   ]
  },
  {
   "cell_type": "code",
   "execution_count": null,
   "metadata": {},
   "outputs": [],
   "source": [
    "# path to montage file\n",
    "montage_file = \" \"\n",
    "\n",
    "# read in file\n",
    "montage = mne.channels.read_custom_montage(montage_file)\n",
    "\n",
    "# append montage to raw object\n",
    "raw.set_montage(montage) # attribute montage to raw object\n",
    "\n",
    "# dsiplay montage\n",
    "raw.plot_sensors()"
   ]
  },
  {
   "attachments": {},
   "cell_type": "markdown",
   "metadata": {},
   "source": [
    "### Convert EEG data to BIDS format"
   ]
  },
  {
   "cell_type": "code",
   "execution_count": null,
   "metadata": {},
   "outputs": [],
   "source": [
    "# identify necesary paths and  initialize variables to be used in BIDS files\n",
    "bids_root = \" \" # path to new BIDS output\n",
    "task = \" \" # task\n",
    "session = \" \" # session\n",
    "\n",
    "# subject IDs\n",
    "subject_ID = [ ] # e.g. ['001', '002'...'034']\n",
    "\n",
    "# or\n",
    "\n",
    "# subject_ID = range(1,20) # Creates a vector, B,  of numbers, 1 through 20. Change this range to satsify participant ID requirements\n",
    "\n",
    "# create BID compliant data based on subject ID numbers\n",
    "for ids in subject_ID:\n",
    "    try:\n",
    "        bids_path = BIDSPath(subject=ids, task=task, root=bids_root)\n",
    "        write_raw_bids(raw, bids_path, overwrite=True, allow_preload= True, format='BrainVision')\n",
    "    except FileNotFoundError: # continue through loop\n",
    "        print(\"Skipping file\")\n",
    "        continue"
   ]
  },
  {
   "attachments": {},
   "cell_type": "markdown",
   "metadata": {},
   "source": [
    "### Display overview of new BIDS dataset"
   ]
  },
  {
   "cell_type": "code",
   "execution_count": null,
   "metadata": {},
   "outputs": [],
   "source": [
    "counts = count_events(bids_root)\n",
    "counts"
   ]
  },
  {
   "attachments": {},
   "cell_type": "markdown",
   "metadata": {},
   "source": [
    "### References"
   ]
  },
  {
   "cell_type": "code",
   "execution_count": null,
   "metadata": {},
   "outputs": [],
   "source": [
    "readme = op.join(bids_root, 'README')\n",
    "with open(readme, 'r', encoding='utf-8-sig') as fid:\n",
    "    text = fid.read()\n",
    "print(text)"
   ]
  },
  {
   "attachments": {},
   "cell_type": "markdown",
   "metadata": {},
   "source": [
    "Pernet, C.R., Appelhoff, S., Gorgolewski, K.J. et al. EEG-BIDS, an extension to the brain imaging data structure for electroencephalography. Sci Data 6, 103 (2019). https://doi.org/10.1038/s41597-019-0104-8"
   ]
  }
 ],
 "metadata": {
  "kernelspec": {
   "display_name": "Python 3",
   "language": "python",
   "name": "python3"
  },
  "language_info": {
   "codemirror_mode": {
    "name": "ipython",
    "version": 3
   },
   "file_extension": ".py",
   "mimetype": "text/x-python",
   "name": "python",
   "nbconvert_exporter": "python",
   "pygments_lexer": "ipython3",
   "version": "3.10.7"
  },
  "orig_nbformat": 4,
  "vscode": {
   "interpreter": {
    "hash": "aee8b7b246df8f9039afb4144a1f6fd8d2ca17a180786b69acc140d282b71a49"
   }
  }
 },
 "nbformat": 4,
 "nbformat_minor": 2
}
